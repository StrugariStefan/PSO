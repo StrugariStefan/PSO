{
 "cells": [
  {
   "cell_type": "markdown",
   "metadata": {},
   "source": [
    "# Introducere"
   ]
  },
  {
   "cell_type": "markdown",
   "metadata": {},
   "source": [
    "Am aplicat *Particle Swarm Optimization* pentru căutarea punctelor de minim global ale funcțiilor *Rastrigin, Rosenbrock, Griewangk, De Jong* - cu un input având 2, 5, 10, și respectiv 30 de dimensiuni - și *Six-hump camel back* - cu un input de două dimensiuni. De asemenea, am efectuat un *grid search* peste mulțimea $\\{0.1, 0.3, 0.5, 0.7, 0.9\\}$ pentru fiecare dintre hiperparametri inerție $w_1$, parametru cognitiv $w_2$ și parametru social $w_3$. Pentru fiecare rulare am folosit o populație de 1000 de particule și 100 de iterații."
   ]
  },
  {
   "cell_type": "markdown",
   "metadata": {},
   "source": [
    "# Rezultate"
   ]
  },
  {
   "cell_type": "markdown",
   "metadata": {},
   "source": [
    "\n",
    "\n",
    "Am selectat rezultatele care produc cea mai mică normă euclidiadă între optimul aproximat de procedură și optimul real, pentru fiecare funcție și număr de dimensiuni de test.\n"
   ]
  },
  {
   "cell_type": "code",
   "execution_count": 3,
   "metadata": {},
   "outputs": [
    {
     "output_type": "execute_result",
     "data": {
      "text/plain": "                  Fitness  Dims          Norm         Optim    Real  Inertia  \\\n238               De Jong     2  3.273200e-43  1.071384e-85  0.0000      0.1   \n664               De Jong     5  4.597945e-25  2.114110e-49  0.0000      0.3   \n1005              De Jong    10  8.172518e-13  6.679005e-25  0.0000      0.5   \n1686              De Jong    30  2.465396e-02  6.078180e-04  0.0000      0.7   \n811             Griewangk     2  1.477554e-09  0.000000e+00  0.0000      0.3   \n1033            Griewangk     5  3.462127e-01  1.645654e-02  0.0000      0.5   \n99              Griewangk    10  1.023011e+01  5.118890e-01  0.0000      0.1   \n1596            Griewangk    30  3.767985e+00  3.312177e-01  0.0000      0.7   \n55              Rastrigin     2  1.334374e-10  0.000000e+00  0.0000      0.1   \n957             Rastrigin     5  4.408935e-09  0.000000e+00  0.0000      0.5   \n1213            Rastrigin    10  1.724135e+00  2.986428e+00  0.0000      0.5   \n279             Rastrigin    30  3.297990e+00  9.125034e+01  0.0000      0.1   \n59             Rosenbrock     2  0.000000e+00  0.000000e+00  0.0000      0.1   \n1335           Rosenbrock     5  3.313364e-09  4.453656e-15  0.0000      0.7   \n1829           Rosenbrock    10  1.586818e-01  6.816778e-03  0.0000      0.9   \n300            Rosenbrock    30  4.312140e+00  1.383807e+02  0.0000      0.1   \n356   Six hump camel back     2  2.066961e-05 -1.031628e+00 -1.0316      0.1   \n\n      P Acceleration  G Acceleration  \n238              0.5             0.9  \n664              0.5             0.9  \n1005             0.3             0.9  \n1686             0.9             0.9  \n811              0.9             0.5  \n1033             0.5             0.1  \n99               0.3             0.1  \n1596             0.7             0.7  \n55               0.1             0.7  \n957              0.3             0.3  \n1213             0.9             0.3  \n279              0.7             0.3  \n59               0.1             0.7  \n1335             0.1             0.7  \n1829             0.3             0.5  \n300              0.7             0.5  \n356              0.9             0.1  ",
      "text/html": "<div>\n<style scoped>\n    .dataframe tbody tr th:only-of-type {\n        vertical-align: middle;\n    }\n\n    .dataframe tbody tr th {\n        vertical-align: top;\n    }\n\n    .dataframe thead th {\n        text-align: right;\n    }\n</style>\n<table border=\"1\" class=\"dataframe\">\n  <thead>\n    <tr style=\"text-align: right;\">\n      <th></th>\n      <th>Fitness</th>\n      <th>Dims</th>\n      <th>Norm</th>\n      <th>Optim</th>\n      <th>Real</th>\n      <th>Inertia</th>\n      <th>P Acceleration</th>\n      <th>G Acceleration</th>\n    </tr>\n  </thead>\n  <tbody>\n    <tr>\n      <th>238</th>\n      <td>De Jong</td>\n      <td>2</td>\n      <td>3.273200e-43</td>\n      <td>1.071384e-85</td>\n      <td>0.0000</td>\n      <td>0.1</td>\n      <td>0.5</td>\n      <td>0.9</td>\n    </tr>\n    <tr>\n      <th>664</th>\n      <td>De Jong</td>\n      <td>5</td>\n      <td>4.597945e-25</td>\n      <td>2.114110e-49</td>\n      <td>0.0000</td>\n      <td>0.3</td>\n      <td>0.5</td>\n      <td>0.9</td>\n    </tr>\n    <tr>\n      <th>1005</th>\n      <td>De Jong</td>\n      <td>10</td>\n      <td>8.172518e-13</td>\n      <td>6.679005e-25</td>\n      <td>0.0000</td>\n      <td>0.5</td>\n      <td>0.3</td>\n      <td>0.9</td>\n    </tr>\n    <tr>\n      <th>1686</th>\n      <td>De Jong</td>\n      <td>30</td>\n      <td>2.465396e-02</td>\n      <td>6.078180e-04</td>\n      <td>0.0000</td>\n      <td>0.7</td>\n      <td>0.9</td>\n      <td>0.9</td>\n    </tr>\n    <tr>\n      <th>811</th>\n      <td>Griewangk</td>\n      <td>2</td>\n      <td>1.477554e-09</td>\n      <td>0.000000e+00</td>\n      <td>0.0000</td>\n      <td>0.3</td>\n      <td>0.9</td>\n      <td>0.5</td>\n    </tr>\n    <tr>\n      <th>1033</th>\n      <td>Griewangk</td>\n      <td>5</td>\n      <td>3.462127e-01</td>\n      <td>1.645654e-02</td>\n      <td>0.0000</td>\n      <td>0.5</td>\n      <td>0.5</td>\n      <td>0.1</td>\n    </tr>\n    <tr>\n      <th>99</th>\n      <td>Griewangk</td>\n      <td>10</td>\n      <td>1.023011e+01</td>\n      <td>5.118890e-01</td>\n      <td>0.0000</td>\n      <td>0.1</td>\n      <td>0.3</td>\n      <td>0.1</td>\n    </tr>\n    <tr>\n      <th>1596</th>\n      <td>Griewangk</td>\n      <td>30</td>\n      <td>3.767985e+00</td>\n      <td>3.312177e-01</td>\n      <td>0.0000</td>\n      <td>0.7</td>\n      <td>0.7</td>\n      <td>0.7</td>\n    </tr>\n    <tr>\n      <th>55</th>\n      <td>Rastrigin</td>\n      <td>2</td>\n      <td>1.334374e-10</td>\n      <td>0.000000e+00</td>\n      <td>0.0000</td>\n      <td>0.1</td>\n      <td>0.1</td>\n      <td>0.7</td>\n    </tr>\n    <tr>\n      <th>957</th>\n      <td>Rastrigin</td>\n      <td>5</td>\n      <td>4.408935e-09</td>\n      <td>0.000000e+00</td>\n      <td>0.0000</td>\n      <td>0.5</td>\n      <td>0.3</td>\n      <td>0.3</td>\n    </tr>\n    <tr>\n      <th>1213</th>\n      <td>Rastrigin</td>\n      <td>10</td>\n      <td>1.724135e+00</td>\n      <td>2.986428e+00</td>\n      <td>0.0000</td>\n      <td>0.5</td>\n      <td>0.9</td>\n      <td>0.3</td>\n    </tr>\n    <tr>\n      <th>279</th>\n      <td>Rastrigin</td>\n      <td>30</td>\n      <td>3.297990e+00</td>\n      <td>9.125034e+01</td>\n      <td>0.0000</td>\n      <td>0.1</td>\n      <td>0.7</td>\n      <td>0.3</td>\n    </tr>\n    <tr>\n      <th>59</th>\n      <td>Rosenbrock</td>\n      <td>2</td>\n      <td>0.000000e+00</td>\n      <td>0.000000e+00</td>\n      <td>0.0000</td>\n      <td>0.1</td>\n      <td>0.1</td>\n      <td>0.7</td>\n    </tr>\n    <tr>\n      <th>1335</th>\n      <td>Rosenbrock</td>\n      <td>5</td>\n      <td>3.313364e-09</td>\n      <td>4.453656e-15</td>\n      <td>0.0000</td>\n      <td>0.7</td>\n      <td>0.1</td>\n      <td>0.7</td>\n    </tr>\n    <tr>\n      <th>1829</th>\n      <td>Rosenbrock</td>\n      <td>10</td>\n      <td>1.586818e-01</td>\n      <td>6.816778e-03</td>\n      <td>0.0000</td>\n      <td>0.9</td>\n      <td>0.3</td>\n      <td>0.5</td>\n    </tr>\n    <tr>\n      <th>300</th>\n      <td>Rosenbrock</td>\n      <td>30</td>\n      <td>4.312140e+00</td>\n      <td>1.383807e+02</td>\n      <td>0.0000</td>\n      <td>0.1</td>\n      <td>0.7</td>\n      <td>0.5</td>\n    </tr>\n    <tr>\n      <th>356</th>\n      <td>Six hump camel back</td>\n      <td>2</td>\n      <td>2.066961e-05</td>\n      <td>-1.031628e+00</td>\n      <td>-1.0316</td>\n      <td>0.1</td>\n      <td>0.9</td>\n      <td>0.1</td>\n    </tr>\n  </tbody>\n</table>\n</div>"
     },
     "metadata": {},
     "execution_count": 3
    }
   ],
   "source": [
    "import pandas as pd\n",
    "\n",
    "rdf = pd.read_pickle('.\\\\i100-p1000-g125.pkl')\n",
    "rdf.iloc[rdf.groupby(['Fitness', 'Dims'])['Norm'].agg(pd.Series.idxmin)].drop(['X', 'Best Y', 'Best X'], axis = 1)"
   ]
  },
  {
   "cell_type": "markdown",
   "metadata": {},
   "source": [
    "Observăm tendința de a obține valori mai depărtate de optimul real cu cât numărul de dimensiuni ale domeniului de definiție a funcțiilor crește. Acest lucru este reflectat de valorile din coloana $Norm$ și coloanele $Optim$ și $Real$. Nu observăm nicio legătură evidentă între valorile hiperparametrilor și funcția de optimizat."
   ]
  },
  {
   "cell_type": "markdown",
   "metadata": {},
   "source": [
    "# Referințe\n",
    "\n",
    "[[1]](https://profs.info.uaic.ro/~pmihaela/MOC/PSO.html) Metode inspirate din natură în optimizare - Optimizarea cu roiuri de particule (Particle Swarm Optimization - PSO)\n",
    "\n",
    "[[2]](http://www.geatbx.com/docu/fcnindex-01.html#P136_5707) GEATbx: Example Functions (single and multi-objective functions), Parametric Optimization"
   ]
  }
 ],
 "metadata": {
  "kernelspec": {
   "display_name": "Python 3.7.4 64-bit",
   "language": "python",
   "name": "python37464bit18038a1d73a04b5e8c4c4c56327c4ab1"
  },
  "language_info": {
   "codemirror_mode": {
    "name": "ipython",
    "version": 3
   },
   "file_extension": ".py",
   "mimetype": "text/x-python",
   "name": "python",
   "nbconvert_exporter": "python",
   "pygments_lexer": "ipython3",
   "version": "3.7.4-final"
  }
 },
 "nbformat": 4,
 "nbformat_minor": 4
}